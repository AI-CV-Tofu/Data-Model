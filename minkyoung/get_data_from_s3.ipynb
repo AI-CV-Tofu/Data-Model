{
 "cells": [
  {
   "cell_type": "code",
   "execution_count": 1,
   "id": "c4154a8e-29f7-4bdc-8925-9be4c1af09ea",
   "metadata": {
    "tags": []
   },
   "outputs": [
    {
     "name": "stdout",
     "output_type": "stream",
     "text": [
      "sagemaker.config INFO - Not applying SDK defaults from location: /etc/xdg/sagemaker/config.yaml\n",
      "sagemaker.config INFO - Not applying SDK defaults from location: /home/ec2-user/.config/sagemaker/config.yaml\n",
      "Data downloaded to /home/ec2-user/SageMaker/7class_640/\n"
     ]
    }
   ],
   "source": [
    "import sagemaker\n",
    "\n",
    "# SageMaker 세션 생성\n",
    "session = sagemaker.Session()\n",
    "\n",
    "# S3 버킷 및 폴더 경로 설정\n",
    "bucket_name = 'square-tofu'\n",
    "s3_folder_path = '7class_640/'\n",
    "local_folder_path = '/home/ec2-user/SageMaker/7class_640/'\n",
    "\n",
    "# S3 폴더 다운로드\n",
    "session.download_data(path=local_folder_path, bucket=bucket_name, key_prefix=s3_folder_path)\n",
    "print(f\"Data downloaded to {local_folder_path}\")"
   ]
  },
  {
   "cell_type": "code",
   "execution_count": null,
   "id": "9b998e3a-7395-4370-9988-2bf4a9c0a87c",
   "metadata": {},
   "outputs": [],
   "source": []
  }
 ],
 "metadata": {
  "kernelspec": {
   "display_name": "conda_python3",
   "language": "python",
   "name": "conda_python3"
  },
  "language_info": {
   "codemirror_mode": {
    "name": "ipython",
    "version": 3
   },
   "file_extension": ".py",
   "mimetype": "text/x-python",
   "name": "python",
   "nbconvert_exporter": "python",
   "pygments_lexer": "ipython3",
   "version": "3.10.15"
  }
 },
 "nbformat": 4,
 "nbformat_minor": 5
}
