{
 "cells": [
  {
   "cell_type": "code",
   "execution_count": 1,
   "id": "790d6833",
   "metadata": {},
   "outputs": [
    {
     "name": "stdout",
     "output_type": "stream",
     "text": [
      "Requirement already satisfied: boto3 in /home/ec2-user/anaconda3/envs/python3/lib/python3.10/site-packages (1.35.59)\n",
      "Requirement already satisfied: pyyaml in /home/ec2-user/anaconda3/envs/python3/lib/python3.10/site-packages (6.0.2)\n",
      "Requirement already satisfied: botocore<1.36.0,>=1.35.59 in /home/ec2-user/anaconda3/envs/python3/lib/python3.10/site-packages (from boto3) (1.35.59)\n",
      "Requirement already satisfied: jmespath<2.0.0,>=0.7.1 in /home/ec2-user/anaconda3/envs/python3/lib/python3.10/site-packages (from boto3) (1.0.1)\n",
      "Requirement already satisfied: s3transfer<0.11.0,>=0.10.0 in /home/ec2-user/anaconda3/envs/python3/lib/python3.10/site-packages (from boto3) (0.10.3)\n",
      "Requirement already satisfied: python-dateutil<3.0.0,>=2.1 in /home/ec2-user/anaconda3/envs/python3/lib/python3.10/site-packages (from botocore<1.36.0,>=1.35.59->boto3) (2.9.0)\n",
      "Requirement already satisfied: urllib3!=2.2.0,<3,>=1.25.4 in /home/ec2-user/anaconda3/envs/python3/lib/python3.10/site-packages (from botocore<1.36.0,>=1.35.59->boto3) (2.2.3)\n",
      "Requirement already satisfied: six>=1.5 in /home/ec2-user/anaconda3/envs/python3/lib/python3.10/site-packages (from python-dateutil<3.0.0,>=2.1->botocore<1.36.0,>=1.35.59->boto3) (1.16.0)\n"
     ]
    }
   ],
   "source": [
    "# boto3 설치 (필요 시)\n",
    "!pip install boto3 pyyaml"
   ]
  },
  {
   "cell_type": "code",
   "execution_count": 2,
   "id": "9150e9ea",
   "metadata": {},
   "outputs": [
    {
     "name": "stdout",
     "output_type": "stream",
     "text": [
      "YAML 파일이 성공적으로 수정되고 S3에 업로드되었습니다!\n"
     ]
    }
   ],
   "source": [
    "import boto3\n",
    "import yaml\n",
    "\n",
    "# S3 설정\n",
    "bucket_name = \"square-tofu\"  # S3 버킷 이름\n",
    "file_key = \"7class_640/data.yaml\"  # S3 경로\n",
    "s3 = boto3.client(\"s3\")\n",
    "\n",
    "# 로컬 파일 경로 설정\n",
    "local_file = \"/tmp/data.yaml\"\n",
    "\n",
    "# 새로운 YAML 내용\n",
    "new_data = {\n",
    "    \"train\": \"s3://square-tofu/7class_640/train/images/\",\n",
    "    \"val\": \"s3://square-tofu/7class_640/valid/images/\",\n",
    "    \"test\": \"../test/images\",\n",
    "    \"nc\": 7,\n",
    "    \"names\": [\"bubble\", \"chip\", \"cut\", \"debris\", \"dent\", \"line\", \"spot\"],\n",
    "    \"roboflow\": {\n",
    "        \"workspace\": \"awscv\",\n",
    "        \"project\": \"cv_tofu\",\n",
    "        \"version\": 3,\n",
    "        \"license\": \"Private\",\n",
    "        \"url\": \"https://app.roboflow.com/awscv/cv_tofu/3\",\n",
    "    },\n",
    "}\n",
    "\n",
    "# 새 YAML 파일 생성\n",
    "with open(local_file, \"w\") as f:\n",
    "    yaml.dump(new_data, f, default_flow_style=False)\n",
    "\n",
    "# S3에 업로드\n",
    "s3.upload_file(local_file, bucket_name, file_key)\n",
    "\n",
    "print(\"YAML 파일이 성공적으로 수정되고 S3에 업로드되었습니다!\")\n"
   ]
  },
  {
   "cell_type": "code",
   "execution_count": 3,
   "id": "2ba74ed2",
   "metadata": {},
   "outputs": [
    {
     "name": "stdout",
     "output_type": "stream",
     "text": [
      "YAML 파일이 성공적으로 수정되고 S3에 업로드되었습니다!\n"
     ]
    }
   ],
   "source": [
    "import boto3\n",
    "import yaml\n",
    "\n",
    "# S3 설정\n",
    "bucket_name = \"square-tofu\"  # S3 버킷 이름\n",
    "file_key = \"7class_original/data.yaml\"  # S3 경로\n",
    "s3 = boto3.client(\"s3\")\n",
    "\n",
    "# 로컬 파일 경로 설정\n",
    "local_file = \"/tmp/data.yaml\"\n",
    "\n",
    "# 새로운 YAML 내용\n",
    "new_data = {\n",
    "    \"train\": \"s3://square-tofu/7class_original/train/images/\",\n",
    "    \"val\": \"s3://square-tofu/7class_original/valid/images/\",\n",
    "    \"test\": \"../test/images\",\n",
    "    \"nc\": 7,\n",
    "    \"names\": [\"bubble\", \"chip\", \"cut\", \"debris\", \"dent\", \"line\", \"spot\"],\n",
    "    \"roboflow\": {\n",
    "        \"workspace\": \"awscv\",\n",
    "        \"project\": \"cv_tofu\",\n",
    "        \"version\": 3,\n",
    "        \"license\": \"Private\",\n",
    "        \"url\": \"https://app.roboflow.com/awscv/cv_tofu/3\",\n",
    "    },\n",
    "}\n",
    "\n",
    "# 새 YAML 파일 생성\n",
    "with open(local_file, \"w\") as f:\n",
    "    yaml.dump(new_data, f, default_flow_style=False)\n",
    "\n",
    "# S3에 업로드\n",
    "s3.upload_file(local_file, bucket_name, file_key)\n",
    "\n",
    "print(\"YAML 파일이 성공적으로 수정되고 S3에 업로드되었습니다!\")\n"
   ]
  },
  {
   "cell_type": "code",
   "execution_count": null,
   "id": "a912c363",
   "metadata": {},
   "outputs": [],
   "source": []
  }
 ],
 "metadata": {
  "kernelspec": {
   "display_name": "conda_python3",
   "language": "python",
   "name": "conda_python3"
  },
  "language_info": {
   "codemirror_mode": {
    "name": "ipython",
    "version": 3
   },
   "file_extension": ".py",
   "mimetype": "text/x-python",
   "name": "python",
   "nbconvert_exporter": "python",
   "pygments_lexer": "ipython3",
   "version": "3.10.15"
  }
 },
 "nbformat": 4,
 "nbformat_minor": 5
}
